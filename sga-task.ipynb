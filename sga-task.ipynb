{
 "cells": [
  {
   "cell_type": "markdown",
   "metadata": {},
   "source": [
    "# User routes on the site\n",
    "## Description\n",
    "**Clickstream** is a sequence of user actions on a website. It allows you to understand how users interact with the site. In this task, you need to find the most frequent custom routes.\n",
    "\n",
    "## Input data\n",
    "Input data is а table with clickstream data in file `hdfs:/data/clickstream.csv`.\n",
    "\n",
    "### Table structure\n",
    "* `user_id (int)` - Unique user identifier.\n",
    "* `session_id (int)` - Unique identifier for the user session. The user's session lasts until the identifier changes.\n",
    "* `event_type (string)` - Event type from the list:\n",
    "    * **page** - visit to the page\n",
    "    * **event** - any action on the page\n",
    "    * <b>&lt;custom&gt;</b> - string with any other type\n",
    "* `event_type (string)` - Page on the site.\n",
    "* `timestamp (int)` - Unix-timestamp of action.\n",
    "\n",
    "### Browser errors\n",
    "Errors can sometimes occur in the user's browser - after such an error appears, we can no longer trust the data of this session and all the following lines after the error or at the same time with it are considered corrupted and **should not be counted** in statistics.\n",
    "\n",
    "When an error occurs on the page, a random string containing the word **error** will be written to the `event_type` field.\n",
    "\n",
    "### Sample of user session\n",
    "<pre>\n",
    "+-------+----------+------------+----------+----------+\n",
    "|user_id|session_id|  event_type|event_page| timestamp|\n",
    "+-------+----------+------------+----------+----------+\n",
    "|    562|       507|        page|      main|1620494781|\n",
    "|    562|       507|       event|      main|1620494788|\n",
    "|    562|       507|       event|      main|1620494798|\n",
    "|    562|       507|        page|    family|1620494820|\n",
    "|    562|       507|       event|    family|1620494828|\n",
    "|    562|       507|        page|      main|1620494848|\n",
    "|    562|       507|wNaxLlerrorU|      main|1620494865|\n",
    "|    562|       507|       event|      main|1620494873|\n",
    "|    562|       507|        page|      news|1620494875|\n",
    "|    562|       507|        page|   tariffs|1620494876|\n",
    "|    562|       507|       event|   tariffs|1620494884|\n",
    "|    562|       514|        page|      main|1620728918|\n",
    "|    562|       514|       event|      main|1620729174|\n",
    "|    562|       514|        page|   archive|1620729674|\n",
    "|    562|       514|        page|     bonus|1620729797|\n",
    "|    562|       514|        page|   tariffs|1620731090|\n",
    "|    562|       514|       event|   tariffs|1620731187|\n",
    "+-------+----------+------------+----------+----------+\n",
    "</pre>\n",
    "\n",
    "#### Correct user routes for a given user:\n",
    "* **Session 507**: main-family-main\n",
    "* **Session 514**: main-archive-bonus-tariffs\n",
    "\n",
    "Route elements are ordered by the time they appear in the clickstream, from earliest to latest.\n",
    "\n",
    "The route must be accounted for completely before the end of the session or an error in the session.\n",
    "\n",
    "## Task\n",
    "You need to use the Spark SQL, Spark RDD and Spark DF interfaces to create a solution file, the lines of which contain **the 30 most frequent user routes** on the site.\n",
    "\n",
    "Each line of the file should contain the `route` and `count` values **separated by tabs**, where:\n",
    "* `route` - route on the site, consisting of pages separated by \"-\".\n",
    "* `count` - the number of user sessions in which this route was.\n",
    "\n",
    "The lines must be **ordered in descending order** of the `count` field.\n",
    "\n",
    "## Criteria\n",
    "You can get maximum of 3.5 points (final grade) for this assignment, depedning on the number of interface you manage to leverage. The criteria are as follows:\n",
    "\n",
    "* 0.5 points – Spark SQL solution with 1 query\n",
    "* 0.5 points – Spark SQL solution with <=2 queries\n",
    "* 0.5 points – Spark RDD solution\n",
    "* 0.5 points – Spark DF solution\n",
    "* 0.5 points – your solution algorithm is relatively optimized, i.e.: no O^2 or O^3 complexities; appropriate object usage; no data leaks etc. This is evaluated by staff.\n",
    "* 1 point – 1 on 1 screening session. During this session staff member can ask you questions regarding your solution logic, framework usage, questionable parts of your code etc. If your code is clean enough, the staff member can just ask you to solve a theoretical problem connected to Spark.\n"
   ]
  },
  {
   "cell_type": "code",
   "execution_count": 1,
   "metadata": {
    "tags": []
   },
   "outputs": [
    {
     "name": "stderr",
     "output_type": "stream",
     "text": [
      "Setting default log level to \"WARN\".\n",
      "To adjust logging level use sc.setLogLevel(newLevel). For SparkR, use setLogLevel(newLevel).\n",
      "2024-01-20 12:56:11,617 WARN yarn.Client: Neither spark.yarn.jars nor spark.yarn.archive is set, falling back to uploading libraries under SPARK_HOME.\n"
     ]
    }
   ],
   "source": [
    "import findspark\n",
    "findspark.init()\n",
    "\n",
    "import pyspark\n",
    "sc = pyspark.SparkContext(appName='jupyter')\n",
    "\n",
    "from pyspark.sql import SparkSession, Row\n",
    "se = SparkSession(sc)"
   ]
  },
  {
   "cell_type": "code",
   "execution_count": 2,
   "metadata": {
    "tags": []
   },
   "outputs": [
    {
     "name": "stdout",
     "output_type": "stream",
     "text": [
      "copyFromLocal: `/clickstream.csv': File exists\n",
      "-rw-r--r--   1 jovyan supergroup     30.7 M 2024-01-18 18:18 /clickstream.csv\n"
     ]
    }
   ],
   "source": [
    "! hadoop fs -copyFromLocal clickstream.csv /\n",
    "\n",
    "! hadoop fs -ls -h /clickstream.csv"
   ]
  },
  {
   "cell_type": "code",
   "execution_count": 3,
   "metadata": {
    "tags": []
   },
   "outputs": [
    {
     "name": "stderr",
     "output_type": "stream",
     "text": [
      "                                                                                \r"
     ]
    }
   ],
   "source": [
    "click = se.read.options(delimiter=\"\\t\").csv(\"hdfs:////clickstream.csv\", header=True)\n",
    "click.registerTempTable(\"click\")"
   ]
  },
  {
   "cell_type": "code",
   "execution_count": 4,
   "metadata": {},
   "outputs": [
    {
     "name": "stdout",
     "output_type": "stream",
     "text": [
      "+-------+----------+----------+----------+----------+\n",
      "|user_id|session_id|event_type|event_page| timestamp|\n",
      "+-------+----------+----------+----------+----------+\n",
      "|    562|       507|      page|      main|1695584127|\n",
      "+-------+----------+----------+----------+----------+\n",
      "only showing top 1 row\n",
      "\n"
     ]
    }
   ],
   "source": [
    "click.show(1)"
   ]
  },
  {
   "cell_type": "markdown",
   "metadata": {},
   "source": [
    "### Spark SQL"
   ]
  },
  {
   "cell_type": "code",
   "execution_count": 89,
   "metadata": {},
   "outputs": [
    {
     "name": "stderr",
     "output_type": "stream",
     "text": [
      "[Stage 463:====================================================>  (20 + 1) / 21]\r"
     ]
    },
    {
     "name": "stdout",
     "output_type": "stream",
     "text": [
      "+--------------------+-----+\n",
      "|               route|count|\n",
      "+--------------------+-----+\n",
      "|                main| 8185|\n",
      "|        main-archive| 1213|\n",
      "|         main-rabota| 1155|\n",
      "|       main-internet|  977|\n",
      "|          main-bonus|  940|\n",
      "|           main-news|  832|\n",
      "|        main-tariffs|  733|\n",
      "|         main-online|  635|\n",
      "|          main-vklad|  548|\n",
      "| main-archive-rabota|  232|\n",
      "| main-rabota-archive|  224|\n",
      "|main-internet-rabota|  188|\n",
      "|  main-bonus-archive|  185|\n",
      "|main-archive-inte...|  185|\n",
      "|   main-bonus-rabota|  185|\n",
      "|    main-news-rabota|  181|\n",
      "|   main-rabota-bonus|  179|\n",
      "|main-rabota-internet|  177|\n",
      "|  main-archive-bonus|  172|\n",
      "|   main-archive-news|  171|\n",
      "|main-internet-arc...|  171|\n",
      "|    main-rabota-news|  167|\n",
      "|   main-news-archive|  153|\n",
      "| main-internet-bonus|  152|\n",
      "|main-archive-tariffs|  146|\n",
      "|  main-internet-news|  139|\n",
      "|  main-news-internet|  134|\n",
      "| main-archive-online|  133|\n",
      "|main-tariffs-archive|  132|\n",
      "|main-tariffs-inte...|  128|\n",
      "+--------------------+-----+\n",
      "only showing top 30 rows\n",
      "\n"
     ]
    },
    {
     "name": "stderr",
     "output_type": "stream",
     "text": [
      "                                                                                \r"
     ]
    }
   ],
   "source": [
    "se.sql(\n",
    "    '''\n",
    "    SELECT \n",
    "        route,\n",
    "        COUNT(distinct user_id, session_id) as count\n",
    "    FROM (\n",
    "        SELECT\n",
    "            user_id,\n",
    "            session_id,\n",
    "            concat_ws(\"-\", collect_list(event_page)) as route\n",
    "        FROM (\n",
    "            SELECT \n",
    "                user_id,\n",
    "                session_id,\n",
    "                event_page,\n",
    "                MIN_BY(timestamp, ri) as timestamp,\n",
    "                MIN(ri) as event_page_appearance\n",
    "            FROM (\n",
    "                SELECT\n",
    "                    user_id,\n",
    "                    session_id,\n",
    "                    event_type,\n",
    "                    event_page,\n",
    "                    timestamp,\n",
    "                    ri\n",
    "                FROM (\n",
    "                    SELECT distinct\n",
    "                        user_id,\n",
    "                        session_id,\n",
    "                        event_type,\n",
    "                        event_page,\n",
    "                        timestamp,\n",
    "                        ri,\n",
    "                        SUM(is_error) OVER (partition by user_id, session_id ORDER BY ri) as is_error\n",
    "                    FROM (\n",
    "                        SELECT \n",
    "                            distinct\n",
    "                            *,\n",
    "                            cast(lower(event_type) LIKE '%error%' as int) as is_error,\n",
    "                            monotonically_increasing_id() as ri\n",
    "                        FROM click\n",
    "                        )\n",
    "                    )\n",
    "                WHERE is_error = 0\n",
    "                )\n",
    "            GROUP BY \n",
    "                user_id,\n",
    "                session_id,\n",
    "                event_page\n",
    "            ORDER BY event_page_appearance\n",
    "            )\n",
    "        GROUP BY \n",
    "            user_id,\n",
    "            session_id\n",
    "        )\n",
    "    GROUP BY route\n",
    "    ORDER BY count DESC\n",
    "    ''').show(30)"
   ]
  },
  {
   "cell_type": "markdown",
   "metadata": {},
   "source": [
    "### Spark df"
   ]
  },
  {
   "cell_type": "code",
   "execution_count": 102,
   "metadata": {
    "tags": []
   },
   "outputs": [],
   "source": [
    "from pyspark.sql.functions import sum, col, lower, monotonically_increasing_id, min\n",
    "from pyspark.sql.functions import concat_ws, collect_list, countDistinct, desc\n",
    "from pyspark.sql.window import Window\n"
   ]
  },
  {
   "cell_type": "code",
   "execution_count": 80,
   "metadata": {
    "tags": []
   },
   "outputs": [],
   "source": [
    "click_df = se.table(\"click\")"
   ]
  },
  {
   "cell_type": "code",
   "execution_count": 81,
   "metadata": {
    "tags": []
   },
   "outputs": [],
   "source": [
    "click_df = click_df.withColumn(\"is_error\", (lower(col(\"event_type\")).like(\"%error%\")).cast(\"int\"))\n",
    "click_df = click_df.withColumn(\"ri\", monotonically_increasing_id())\n",
    "click_df = click_df.dropDuplicates()"
   ]
  },
  {
   "cell_type": "code",
   "execution_count": 82,
   "metadata": {
    "tags": []
   },
   "outputs": [],
   "source": [
    "selected_columns = [\"user_id\", \"session_id\", \"event_type\", \"event_page\", \"timestamp\", \"ri\", \"is_error\"]\n",
    "df = click_df.select(*selected_columns)\n",
    "\n",
    "df = df.withColumn(\"is_error\", sum(\"is_error\").over(\n",
    "    Window.partitionBy(\"user_id\", \"session_id\").orderBy(\"ri\")\n",
    "))"
   ]
  },
  {
   "cell_type": "code",
   "execution_count": 87,
   "metadata": {
    "tags": []
   },
   "outputs": [],
   "source": [
    "filtered_df = df.filter(df.is_error == 0)"
   ]
  },
  {
   "cell_type": "code",
   "execution_count": 95,
   "metadata": {
    "tags": []
   },
   "outputs": [],
   "source": [
    "aggregated_df = filtered_df.groupBy(\"user_id\", \"session_id\", \"event_page\").agg(\n",
    "    min(\"ri\").alias(\"event_page_appearance\")\n",
    ").orderBy(\"event_page_appearance\")"
   ]
  },
  {
   "cell_type": "code",
   "execution_count": 98,
   "metadata": {
    "tags": []
   },
   "outputs": [],
   "source": [
    "grouped_df = aggregated_df.groupBy(\"user_id\", \"session_id\").agg(\n",
    "    concat_ws(\"-\", collect_list(\"event_page\")).alias(\"route\")\n",
    ")"
   ]
  },
  {
   "cell_type": "code",
   "execution_count": 103,
   "metadata": {
    "tags": []
   },
   "outputs": [],
   "source": [
    "counted_df = grouped_df.groupBy(\"route\").agg(\n",
    "    countDistinct(\"user_id\", \"session_id\").alias(\"count\")\n",
    ").orderBy(desc(\"count\"))"
   ]
  },
  {
   "cell_type": "code",
   "execution_count": 104,
   "metadata": {
    "tags": []
   },
   "outputs": [
    {
     "name": "stderr",
     "output_type": "stream",
     "text": [
      "[Stage 487:====================================================>  (20 + 1) / 21]\r"
     ]
    },
    {
     "name": "stdout",
     "output_type": "stream",
     "text": [
      "+--------------------+-----+\n",
      "|               route|count|\n",
      "+--------------------+-----+\n",
      "|                main| 8185|\n",
      "|        main-archive| 1212|\n",
      "|         main-rabota| 1154|\n",
      "|       main-internet|  974|\n",
      "|          main-bonus|  939|\n",
      "|           main-news|  832|\n",
      "|        main-tariffs|  731|\n",
      "|         main-online|  635|\n",
      "|          main-vklad|  547|\n",
      "| main-archive-rabota|  232|\n",
      "| main-rabota-archive|  223|\n",
      "|main-internet-rabota|  187|\n",
      "|  main-bonus-archive|  185|\n",
      "|main-archive-inte...|  185|\n",
      "|   main-bonus-rabota|  185|\n",
      "|    main-news-rabota|  181|\n",
      "|   main-rabota-bonus|  179|\n",
      "|main-rabota-internet|  176|\n",
      "|   main-archive-news|  171|\n",
      "|  main-archive-bonus|  171|\n",
      "|main-internet-arc...|  171|\n",
      "|    main-rabota-news|  168|\n",
      "|   main-news-archive|  153|\n",
      "| main-internet-bonus|  150|\n",
      "|main-archive-tariffs|  146|\n",
      "|  main-internet-news|  140|\n",
      "|  main-news-internet|  134|\n",
      "| main-archive-online|  133|\n",
      "|main-tariffs-archive|  132|\n",
      "|main-tariffs-inte...|  128|\n",
      "+--------------------+-----+\n",
      "only showing top 30 rows\n",
      "\n"
     ]
    },
    {
     "name": "stderr",
     "output_type": "stream",
     "text": [
      "                                                                                \r"
     ]
    }
   ],
   "source": [
    "counted_df.show(30)"
   ]
  },
  {
   "cell_type": "code",
   "execution_count": 128,
   "metadata": {
    "tags": []
   },
   "outputs": [
    {
     "name": "stderr",
     "output_type": "stream",
     "text": [
      "[Stage 518:====================================================>  (20 + 1) / 21]\r"
     ]
    },
    {
     "name": "stdout",
     "output_type": "stream",
     "text": [
      "+--------------------+-----+\n",
      "|               route|count|\n",
      "+--------------------+-----+\n",
      "|                main| 8185|\n",
      "|        main-archive| 1213|\n",
      "|         main-rabota| 1154|\n",
      "|       main-internet|  979|\n",
      "|          main-bonus|  941|\n",
      "|           main-news|  831|\n",
      "|        main-tariffs|  732|\n",
      "|         main-online|  635|\n",
      "|          main-vklad|  548|\n",
      "| main-archive-rabota|  232|\n",
      "| main-rabota-archive|  223|\n",
      "|main-internet-rabota|  188|\n",
      "|  main-bonus-archive|  185|\n",
      "|main-archive-inte...|  185|\n",
      "|   main-bonus-rabota|  185|\n",
      "|    main-news-rabota|  181|\n",
      "|   main-rabota-bonus|  179|\n",
      "|main-rabota-internet|  176|\n",
      "|  main-archive-bonus|  172|\n",
      "|main-internet-arc...|  172|\n",
      "|   main-archive-news|  171|\n",
      "|    main-rabota-news|  168|\n",
      "|   main-news-archive|  153|\n",
      "| main-internet-bonus|  151|\n",
      "|main-archive-tariffs|  146|\n",
      "|  main-internet-news|  140|\n",
      "| main-archive-online|  134|\n",
      "|  main-news-internet|  134|\n",
      "|main-tariffs-archive|  132|\n",
      "|main-tariffs-inte...|  128|\n",
      "+--------------------+-----+\n",
      "only showing top 30 rows\n",
      "\n"
     ]
    },
    {
     "name": "stderr",
     "output_type": "stream",
     "text": [
      "                                                                                \r"
     ]
    }
   ],
   "source": [
    "df = click_df.withColumn(\"is_error\", (lower(col(\"event_type\")).like(\"%error%\")).cast(\"int\"))\n",
    "df = df.withColumn(\"ri\", monotonically_increasing_id())\n",
    "df = df.dropDuplicates()\n",
    "\n",
    "selected_columns = [\"user_id\", \"session_id\", \"event_type\", \"event_page\", \"timestamp\", \"ri\", \"is_error\"]\n",
    "df = df.select(*selected_columns)\n",
    "\n",
    "df = df.withColumn(\"is_error\", sum(\"is_error\").over(\n",
    "    Window.partitionBy(\"user_id\", \"session_id\").orderBy(\"ri\")\n",
    "))\n",
    "\n",
    "df = df.filter(df.is_error == 0)\n",
    "\n",
    "df = df.groupBy(\"user_id\", \"session_id\", \"event_page\").agg(\n",
    "    min(\"ri\").alias(\"event_page_appearance\")\n",
    ").orderBy(\"event_page_appearance\")\n",
    "\n",
    "df = df.groupBy(\"user_id\", \"session_id\").agg(\n",
    "    concat_ws(\"-\", collect_list(\"event_page\")).alias(\"route\")\n",
    ")\n",
    "\n",
    "df = df.groupBy(\"route\").agg(\n",
    "    countDistinct(\"user_id\", \"session_id\").alias(\"count\")\n",
    ").orderBy(desc(\"count\"))\n",
    "\n",
    "df.show(30)"
   ]
  },
  {
   "cell_type": "code",
   "execution_count": null,
   "metadata": {},
   "outputs": [],
   "source": []
  },
  {
   "cell_type": "code",
   "execution_count": null,
   "metadata": {},
   "outputs": [],
   "source": []
  }
 ],
 "metadata": {
  "coursera": {
   "schema_names": [
    "week-4-spark-homework"
   ]
  },
  "kernelspec": {
   "display_name": "Python 3 (ipykernel)",
   "language": "python",
   "name": "python3"
  },
  "language_info": {
   "codemirror_mode": {
    "name": "ipython",
    "version": 3
   },
   "file_extension": ".py",
   "mimetype": "text/x-python",
   "name": "python",
   "nbconvert_exporter": "python",
   "pygments_lexer": "ipython3",
   "version": "3.10.9"
  },
  "vscode": {
   "interpreter": {
    "hash": "31f2aee4e71d21fbe5cf8b01ff0e069b9275f58929596ceb00d14d90e3e16cd6"
   }
  }
 },
 "nbformat": 4,
 "nbformat_minor": 4
}
